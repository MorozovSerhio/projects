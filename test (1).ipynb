{
 "cells": [
  {
   "cell_type": "code",
   "execution_count": 3,
   "id": "c8058adb",
   "metadata": {},
   "outputs": [],
   "source": [
    "import pandas as pd\n",
    "import numpy as np\n",
    "import matplotlib.pyplot as plt\n",
    "import json\n",
    "from pandas.io.json import json_normalize"
   ]
  },
  {
   "cell_type": "markdown",
   "id": "bc057f6f",
   "metadata": {},
   "source": [
    "## Задание 1.1"
   ]
  },
  {
   "cell_type": "code",
   "execution_count": 4,
   "id": "a84ed1f1",
   "metadata": {},
   "outputs": [],
   "source": [
    "db = pd.read_csv(\"C:/Users/HP/Downloads/TZ_GP.csv\", sep=\";\")"
   ]
  },
  {
   "cell_type": "code",
   "execution_count": 5,
   "id": "1b363417",
   "metadata": {},
   "outputs": [],
   "source": [
    "result = pd.json_normalize(db.game_status.apply(json.loads))"
   ]
  },
  {
   "cell_type": "code",
   "execution_count": 6,
   "id": "abf2a0bf",
   "metadata": {},
   "outputs": [],
   "source": [
    "db[['coins', 'freeRounds', 'freeUndo', 'freeWildCard', 'freeAddCards',\n",
    "       'level', 'map', 'bet', 'gladeId', 'league', 'VIPPointsAmount',\n",
    "       'VIPStatus', 'gameType']] = result[['coins', 'freeRounds', 'freeUndo', 'freeWildCard', 'freeAddCards',\n",
    "       'level', 'map', 'bet', 'gladeId', 'league', 'VIPPointsAmount',\n",
    "       'VIPStatus', 'gameType']]"
   ]
  },
  {
   "cell_type": "code",
   "execution_count": 7,
   "id": "6d27d287",
   "metadata": {},
   "outputs": [],
   "source": [
    "db_new = db.drop([\"game_status\"], axis=1)"
   ]
  },
  {
   "cell_type": "code",
   "execution_count": 8,
   "id": "db4a8af3",
   "metadata": {},
   "outputs": [],
   "source": [
    "all_users_list = db_new.user_id.unique().tolist()"
   ]
  },
  {
   "cell_type": "code",
   "execution_count": 9,
   "id": "beb93c1a",
   "metadata": {},
   "outputs": [],
   "source": [
    "last_step_user = pd.DataFrame() # отбор последних действий игроков за приведенный период\n",
    "for i in range(len(all_users_list)):\n",
    "    a = all_users_list[i]\n",
    "    last_step_user = last_step_user.append(db_new.query(\"user_id == @a\").sort_values(\"client_time\", ascending=False).head(1)) "
   ]
  },
  {
   "cell_type": "code",
   "execution_count": 10,
   "id": "8312afb0",
   "metadata": {},
   "outputs": [],
   "source": [
    "dropped_users = last_step_user.query(\"gladeId < 2\") # игроки, которые не прошли первую грядку"
   ]
  },
  {
   "cell_type": "code",
   "execution_count": 11,
   "id": "16c1a41f",
   "metadata": {},
   "outputs": [
    {
     "data": {
      "text/plain": [
       "(0.19247787610619468, 87)"
      ]
     },
     "execution_count": 11,
     "metadata": {},
     "output_type": "execute_result"
    }
   ],
   "source": [
    "dropped_users_quantity = dropped_users.user_id.shape[0]\n",
    "drop_rate = dropped_users_quantity/len(all_users_list)\n",
    "drop_rate, dropped_users_quantity"
   ]
  },
  {
   "cell_type": "code",
   "execution_count": 12,
   "id": "3f9b92be",
   "metadata": {},
   "outputs": [
    {
     "data": {
      "text/plain": [
       "Text(0.5, 1.0, 'Drop rate after first glade')"
      ]
     },
     "execution_count": 12,
     "metadata": {},
     "output_type": "execute_result"
    },
    {
     "data": {
      "image/png": "[encoded data removed]",
      "text/plain": [
       "<Figure size 432x288 with 1 Axes>"
      ]
     },
     "metadata": {},
     "output_type": "display_data"
    }
   ],
   "source": [
    "vals = [dropped_users_quantity, len(all_users_list)-dropped_users_quantity]\n",
    "labels = ['dropped_users_quantity', \"rest_users\"]\n",
    "\n",
    "fig, ax = plt.subplots()\n",
    "ax.pie(vals, labels=labels, autopct='%1.1f%%')\n",
    "ax.axis(\"equal\")\n",
    "plt.title(\"Drop rate after first glade\")"
   ]
  },
  {
   "cell_type": "code",
   "execution_count": 13,
   "id": "e40dc207",
   "metadata": {},
   "outputs": [
    {
     "data": {
      "text/plain": [
       "Text(0.5, 1.0, 'Events before drop')"
      ]
     },
     "execution_count": 13,
     "metadata": {},
     "output_type": "execute_result"
    },
    {
     "data": {
      "image/png": "[encoded data removed]",
      "text/plain": [
       "<Figure size 432x288 with 1 Axes>"
      ]
     },
     "metadata": {
      "needs_background": "light"
     },
     "output_type": "display_data"
    }
   ],
   "source": [
    "labels = dropped_users.groupby('event_name').count().user_id.index.values\n",
    "vals = dropped_users.groupby('event_name').count().user_id.values\n",
    "plt.barh(labels, vals)\n",
    "plt.title(\"Events before drop\")\n"
   ]
  },
  {
   "cell_type": "code",
   "execution_count": 14,
   "id": "ece6340e",
   "metadata": {},
   "outputs": [],
   "source": [
    "dropped_users_with_learning = dropped_users.query(\"event_name == 'learning'\")# дропнутые пользователи с последним шагом learning"
   ]
  },
  {
   "cell_type": "code",
   "execution_count": 15,
   "id": "0c54fb7b",
   "metadata": {},
   "outputs": [],
   "source": [
    "event_data_learning = pd.json_normalize(dropped_users_with_learning.event_data.apply(json.loads))"
   ]
  },
  {
   "cell_type": "code",
   "execution_count": 16,
   "id": "4a0c908b",
   "metadata": {},
   "outputs": [
    {
     "data": {
      "text/plain": [
       "<AxesSubplot:>"
      ]
     },
     "execution_count": 16,
     "metadata": {},
     "output_type": "execute_result"
    },
    {
     "data": {
      "image/png": "[encoded data removed]",
      "text/plain": [
       "<Figure size 432x288 with 1 Axes>"
      ]
     },
     "metadata": {
      "needs_background": "light"
     },
     "output_type": "display_data"
    }
   ],
   "source": [
    "event_data_learning.level.hist() # дроп происходит в основном на первых 2х уровнях"
   ]
  },
  {
   "cell_type": "code",
   "execution_count": 17,
   "id": "261d06ec",
   "metadata": {},
   "outputs": [],
   "source": [
    "quantity_hints = event_data_learning.groupby('name', as_index=False).count().rename(columns={\"level\" : \"quantity\"})"
   ]
  },
  {
   "cell_type": "code",
   "execution_count": 18,
   "id": "cb5a56ad",
   "metadata": {},
   "outputs": [
    {
     "data": {
      "text/plain": [
       "Text(0.5, 1.0, 'Hints before drop')"
      ]
     },
     "execution_count": 18,
     "metadata": {},
     "output_type": "execute_result"
    },
    {
     "data": {
      "image/png": "[encoded data removed]",
      "text/plain": [
       "<Figure size 432x288 with 1 Axes>"
      ]
     },
     "metadata": {
      "needs_background": "light"
     },
     "output_type": "display_data"
    }
   ],
   "source": [
    "labels = quantity_hints[\"name\"]\n",
    "vals = quantity_hints[\"quantity\"]\n",
    "plt.barh(labels, vals)\n",
    "plt.title(\"Hints before drop\")"
   ]
  },
  {
   "cell_type": "markdown",
   "id": "a4ef6e64",
   "metadata": {},
   "source": [
    "## Задание 1.2"
   ]
  },
  {
   "cell_type": "code",
   "execution_count": 19,
   "id": "e72abeec",
   "metadata": {},
   "outputs": [],
   "source": [
    "level_end_data = pd.json_normalize(db_new.query(\"event_name == 'levelEnd'\").event_data.apply(json.loads))"
   ]
  },
  {
   "cell_type": "code",
   "execution_count": 96,
   "id": "598a8ef4",
   "metadata": {},
   "outputs": [
    {
     "data": {
      "text/html": [
       "<div>\n",
       "<style scoped>\n",
       "    .dataframe tbody tr th:only-of-type {\n",
       "        vertical-align: middle;\n",
       "    }\n",
       "\n",
       "    .dataframe tbody tr th {\n",
       "        vertical-align: top;\n",
       "    }\n",
       "\n",
       "    .dataframe thead th {\n",
       "        text-align: right;\n",
       "    }\n",
       "</style>\n",
       "<table border=\"1\" class=\"dataframe\">\n",
       "  <thead>\n",
       "    <tr style=\"text-align: right;\">\n",
       "      <th></th>\n",
       "      <th>time</th>\n",
       "      <th>fromMenu</th>\n",
       "      <th>level</th>\n",
       "      <th>levelLoop</th>\n",
       "      <th>gameType</th>\n",
       "      <th>VIPStatus</th>\n",
       "      <th>win</th>\n",
       "      <th>collectedCoins</th>\n",
       "      <th>bonusCoins</th>\n",
       "      <th>stars</th>\n",
       "      <th>streaksRewards</th>\n",
       "      <th>cardsOnField</th>\n",
       "      <th>cardsOnHands</th>\n",
       "      <th>baseLuckyIndex</th>\n",
       "      <th>targetGoldIndex</th>\n",
       "      <th>totalLuckyIndex</th>\n",
       "      <th>cardsRemainsBonus</th>\n",
       "      <th>prediction</th>\n",
       "      <th>predictionCameTrue</th>\n",
       "    </tr>\n",
       "  </thead>\n",
       "  <tbody>\n",
       "    <tr>\n",
       "      <th>0</th>\n",
       "      <td>32549</td>\n",
       "      <td>False</td>\n",
       "      <td>1</td>\n",
       "      <td>1.0</td>\n",
       "      <td>0</td>\n",
       "      <td>0.0</td>\n",
       "      <td>VICTORY</td>\n",
       "      <td>3088</td>\n",
       "      <td>0</td>\n",
       "      <td>5</td>\n",
       "      <td>[Gold, AdditionalCard, WildCard, Gold, Additio...</td>\n",
       "      <td>0</td>\n",
       "      <td>17</td>\n",
       "      <td>0</td>\n",
       "      <td>0</td>\n",
       "      <td>0</td>\n",
       "      <td>1580</td>\n",
       "      <td>Default</td>\n",
       "      <td>False</td>\n",
       "    </tr>\n",
       "    <tr>\n",
       "      <th>1</th>\n",
       "      <td>45005</td>\n",
       "      <td>False</td>\n",
       "      <td>2</td>\n",
       "      <td>6.0</td>\n",
       "      <td>0</td>\n",
       "      <td>0.0</td>\n",
       "      <td>VICTORY</td>\n",
       "      <td>1214</td>\n",
       "      <td>0</td>\n",
       "      <td>3</td>\n",
       "      <td>[Gold, AdditionalCard, WildCard]</td>\n",
       "      <td>0</td>\n",
       "      <td>3</td>\n",
       "      <td>0</td>\n",
       "      <td>0</td>\n",
       "      <td>0</td>\n",
       "      <td>90</td>\n",
       "      <td>VictoryWith1Or2Cards</td>\n",
       "      <td>True</td>\n",
       "    </tr>\n",
       "    <tr>\n",
       "      <th>2</th>\n",
       "      <td>49074</td>\n",
       "      <td>False</td>\n",
       "      <td>3</td>\n",
       "      <td>7.0</td>\n",
       "      <td>0</td>\n",
       "      <td>0.0</td>\n",
       "      <td>VICTORY_WITH_BOOSTER</td>\n",
       "      <td>1245</td>\n",
       "      <td>0</td>\n",
       "      <td>2</td>\n",
       "      <td>[Gold, AdditionalCard]</td>\n",
       "      <td>0</td>\n",
       "      <td>5</td>\n",
       "      <td>0</td>\n",
       "      <td>0</td>\n",
       "      <td>0</td>\n",
       "      <td>150</td>\n",
       "      <td>VictoryWith4OrMoreCards</td>\n",
       "      <td>True</td>\n",
       "    </tr>\n",
       "    <tr>\n",
       "      <th>3</th>\n",
       "      <td>29419</td>\n",
       "      <td>False</td>\n",
       "      <td>1</td>\n",
       "      <td>1.0</td>\n",
       "      <td>0</td>\n",
       "      <td>0.0</td>\n",
       "      <td>VICTORY</td>\n",
       "      <td>3158</td>\n",
       "      <td>0</td>\n",
       "      <td>5</td>\n",
       "      <td>[Gold, AdditionalCard, WildCard, Gold, Additio...</td>\n",
       "      <td>0</td>\n",
       "      <td>17</td>\n",
       "      <td>0</td>\n",
       "      <td>0</td>\n",
       "      <td>0</td>\n",
       "      <td>1620</td>\n",
       "      <td>Default</td>\n",
       "      <td>False</td>\n",
       "    </tr>\n",
       "    <tr>\n",
       "      <th>4</th>\n",
       "      <td>31960</td>\n",
       "      <td>False</td>\n",
       "      <td>1</td>\n",
       "      <td>1.0</td>\n",
       "      <td>0</td>\n",
       "      <td>0.0</td>\n",
       "      <td>VICTORY</td>\n",
       "      <td>3128</td>\n",
       "      <td>0</td>\n",
       "      <td>5</td>\n",
       "      <td>[Gold, AdditionalCard, WildCard, Gold, Additio...</td>\n",
       "      <td>0</td>\n",
       "      <td>17</td>\n",
       "      <td>0</td>\n",
       "      <td>0</td>\n",
       "      <td>0</td>\n",
       "      <td>1660</td>\n",
       "      <td>Default</td>\n",
       "      <td>False</td>\n",
       "    </tr>\n",
       "  </tbody>\n",
       "</table>\n",
       "</div>"
      ],
      "text/plain": [
       "    time  fromMenu  level  levelLoop  gameType  VIPStatus  \\\n",
       "0  32549     False      1        1.0         0        0.0   \n",
       "1  45005     False      2        6.0         0        0.0   \n",
       "2  49074     False      3        7.0         0        0.0   \n",
       "3  29419     False      1        1.0         0        0.0   \n",
       "4  31960     False      1        1.0         0        0.0   \n",
       "\n",
       "                    win  collectedCoins  bonusCoins  stars  \\\n",
       "0               VICTORY            3088           0      5   \n",
       "1               VICTORY            1214           0      3   \n",
       "2  VICTORY_WITH_BOOSTER            1245           0      2   \n",
       "3               VICTORY            3158           0      5   \n",
       "4               VICTORY            3128           0      5   \n",
       "\n",
       "                                      streaksRewards  cardsOnField  \\\n",
       "0  [Gold, AdditionalCard, WildCard, Gold, Additio...             0   \n",
       "1                   [Gold, AdditionalCard, WildCard]             0   \n",
       "2                             [Gold, AdditionalCard]             0   \n",
       "3  [Gold, AdditionalCard, WildCard, Gold, Additio...             0   \n",
       "4  [Gold, AdditionalCard, WildCard, Gold, Additio...             0   \n",
       "\n",
       "   cardsOnHands  baseLuckyIndex  targetGoldIndex  totalLuckyIndex  \\\n",
       "0            17               0                0                0   \n",
       "1             3               0                0                0   \n",
       "2             5               0                0                0   \n",
       "3            17               0                0                0   \n",
       "4            17               0                0                0   \n",
       "\n",
       "   cardsRemainsBonus               prediction  predictionCameTrue  \n",
       "0               1580                  Default               False  \n",
       "1                 90     VictoryWith1Or2Cards                True  \n",
       "2                150  VictoryWith4OrMoreCards                True  \n",
       "3               1620                  Default               False  \n",
       "4               1660                  Default               False  "
      ]
     },
     "execution_count": 96,
     "metadata": {},
     "output_type": "execute_result"
    }
   ],
   "source": [
    "level_end_data.head()"
   ]
  },
  {
   "cell_type": "code",
   "execution_count": 20,
   "id": "13fff5dd",
   "metadata": {},
   "outputs": [],
   "source": [
    "level_loops = level_end_data.levelLoop.unique().tolist()\n",
    "lvloops = pd.DataFrame()\n",
    "for lvl in level_loops:\n",
    "    level_quantity = level_end_data.query(\"levelLoop == @lvl\").shape[0]\n",
    "    result = pd.DataFrame({\"levelLoop\" : [lvl], 'level_quantity': [level_quantity]})\n",
    "    lvloops = lvloops.append(result)"
   ]
  },
  {
   "cell_type": "code",
   "execution_count": 21,
   "id": "55f57d8c",
   "metadata": {},
   "outputs": [],
   "source": [
    "first30 = lvloops.sort_values(\"level_quantity\", ascending=False).head(30).levelLoop.tolist()"
   ]
  },
  {
   "cell_type": "code",
   "execution_count": 22,
   "id": "59f23ea0",
   "metadata": {},
   "outputs": [],
   "source": [
    "results_forlvl_loops = pd.DataFrame()\n",
    "for i in first30:\n",
    "    a = level_end_data.query(\"levelLoop == @i & win == 'VICTORY'\").shape[0]\n",
    "    b = level_end_data.query(\"levelLoop == @i & win == 'VICTORY_WITH_BOOSTER'\").shape[0]\n",
    "    c = level_end_data.query(\"levelLoop == @i & win == 'DEFEAT'\").shape[0]\n",
    "    d = level_end_data.query(\"levelLoop == @i & win == 'NONE'\").shape[0]\n",
    "    e = level_end_data.query(\"levelLoop == @i & win == 'DEFEAT_WITH_BOOSTER'\").shape[0]\n",
    "    abc = pd.DataFrame({\"VICTORY\" : [a], 'VICTORY_WITH_BOOSTER' : [b], 'DEFEAT' : [c], 'NONE' : [d], 'DEFEAT_WITH_BOOSTER' : [e]})\n",
    "    results_forlvl_loops = results_forlvl_loops.append(abc)"
   ]
  },
  {
   "cell_type": "code",
   "execution_count": 23,
   "id": "c2711612",
   "metadata": {},
   "outputs": [],
   "source": [
    "results_forlvl_loops.index = range(30)\n",
    "results_forlvl_loops[\"levelLoop\"] = first30"
   ]
  },
  {
   "cell_type": "code",
   "execution_count": 24,
   "id": "070d90dc",
   "metadata": {},
   "outputs": [],
   "source": [
    "time = level_end_data.groupby(\"levelLoop\", as_index=False).agg({\"time\" : \"mean\"})"
   ]
  },
  {
   "cell_type": "code",
   "execution_count": 25,
   "id": "f2a1c77c",
   "metadata": {},
   "outputs": [],
   "source": [
    "results_forlvl_loops['victories'] = results_forlvl_loops[\"VICTORY\"] + results_forlvl_loops[\"VICTORY_WITH_BOOSTER\"]\n",
    "results_forlvl_loops[\"losses\"] = results_forlvl_loops[\"DEFEAT\"] + results_forlvl_loops[\"DEFEAT_WITH_BOOSTER\"]\n",
    "results_forlvl_loops[\"attempts\"] = results_forlvl_loops[\"VICTORY\"] + results_forlvl_loops[\"VICTORY_WITH_BOOSTER\"]\\\n",
    "+results_forlvl_loops[\"DEFEAT\"] + results_forlvl_loops[\"DEFEAT_WITH_BOOSTER\"] + results_forlvl_loops[\"NONE\"]\n",
    "results_forlvl_loops[\"win_ratio\"] = results_forlvl_loops[\"victories\"] / results_forlvl_loops[\"attempts\"]\n",
    "results_forlvl_loops[\"booster_ratio\"] = results_forlvl_loops[\"VICTORY_WITH_BOOSTER\"] / results_forlvl_loops[\"attempts\"]\n",
    "results_forlvl_loops = results_forlvl_loops.merge(time, on=\"levelLoop\")"
   ]
  },
  {
   "cell_type": "code",
   "execution_count": 33,
   "id": "453f6861",
   "metadata": {},
   "outputs": [],
   "source": [
    "data = results_forlvl_loops[[\"win_ratio\", \"booster_ratio\"]]"
   ]
  },
  {
   "cell_type": "code",
   "execution_count": 35,
   "id": "78335d69",
   "metadata": {},
   "outputs": [],
   "source": [
    "X = data.values\n"
   ]
  },
  {
   "cell_type": "code",
   "execution_count": 36,
   "id": "71291f86",
   "metadata": {},
   "outputs": [
    {
     "data": {
      "text/plain": [
       "array([[-3.99496095,  0.86569118],\n",
       "       [ 0.81979908, -1.93252849],\n",
       "       [ 0.76142585, -1.13982877],\n",
       "       [ 0.59971878, -1.28734413],\n",
       "       [ 0.86296692, -1.52281463],\n",
       "       [ 0.9170878 , -1.43517983],\n",
       "       [ 0.9170878 , -1.66744335],\n",
       "       [ 0.46775434,  0.81219791],\n",
       "       [ 0.80238952, -1.42361654],\n",
       "       [ 0.2795362 ,  0.82980614],\n",
       "       [ 0.67934955, -0.73919899],\n",
       "       [ 0.4416113 , -0.18610164],\n",
       "       [ 0.73480708, -0.25888843],\n",
       "       [-0.10444374,  0.85902191],\n",
       "       [ 0.08055803,  0.32257373],\n",
       "       [ 0.53099714,  0.66190839],\n",
       "       [ 0.52947109, -0.40974535],\n",
       "       [-0.00558585,  0.52169943],\n",
       "       [ 0.9170878 , -1.33868516],\n",
       "       [-0.57494168,  1.26794006],\n",
       "       [-0.05250146,  0.3917601 ],\n",
       "       [-0.68258713,  1.00599968],\n",
       "       [-0.27542971,  0.66182272],\n",
       "       [-0.01076618,  0.92959314],\n",
       "       [-0.09540364,  0.07103153],\n",
       "       [-0.61520952,  0.49687483],\n",
       "       [-0.54878706,  0.66718951],\n",
       "       [-1.95833433,  0.75339568],\n",
       "       [-0.83956458,  1.27659103],\n",
       "       [-0.58313244,  0.94627836]])"
      ]
     },
     "execution_count": 36,
     "metadata": {},
     "output_type": "execute_result"
    }
   ],
   "source": [
    "from sklearn.preprocessing import StandardScaler\n",
    "X = data.values\n",
    "Clus_dataset = StandardScaler().fit_transform(X)\n",
    "Clus_dataset"
   ]
  },
  {
   "cell_type": "code",
   "execution_count": 37,
   "id": "3eccf444",
   "metadata": {},
   "outputs": [
    {
     "data": {
      "text/plain": [
       "array([1, 0, 0, 0, 0, 0, 0, 1, 0, 1, 2, 2, 2, 1, 1, 1, 2, 1, 0, 1, 1, 1,\n",
       "       1, 1, 2, 1, 1, 1, 1, 1])"
      ]
     },
     "execution_count": 37,
     "metadata": {},
     "output_type": "execute_result"
    }
   ],
   "source": [
    "from sklearn.cluster import KMeans\n",
    "clusterNum = 3\n",
    "k_means = KMeans(init = \"k-means++\", n_clusters = clusterNum, n_init=12)\n",
    "k_means.fit(X)\n",
    "labels = k_means.labels_\n",
    "labels"
   ]
  },
  {
   "cell_type": "code",
   "execution_count": 95,
   "id": "e120aa4c",
   "metadata": {},
   "outputs": [
    {
     "name": "stderr",
     "output_type": "stream",
     "text": [
      "<ipython-input-95-a5f8f356971d>:2: SettingWithCopyWarning: \n",
      "A value is trying to be set on a copy of a slice from a DataFrame.\n",
      "Try using .loc[row_indexer,col_indexer] = value instead\n",
      "\n",
      "See the caveats in the documentation: https://pandas.pydata.org/pandas-docs/stable/user_guide/indexing.html#returning-a-view-versus-a-copy\n",
      "  data[\"cluster\"] = labels\n"
     ]
    },
    {
     "data": {
      "text/html": [
       "<div>\n",
       "<style scoped>\n",
       "    .dataframe tbody tr th:only-of-type {\n",
       "        vertical-align: middle;\n",
       "    }\n",
       "\n",
       "    .dataframe tbody tr th {\n",
       "        vertical-align: top;\n",
       "    }\n",
       "\n",
       "    .dataframe thead th {\n",
       "        text-align: right;\n",
       "    }\n",
       "</style>\n",
       "<table border=\"1\" class=\"dataframe\">\n",
       "  <thead>\n",
       "    <tr style=\"text-align: right;\">\n",
       "      <th></th>\n",
       "      <th>VICTORY</th>\n",
       "      <th>VICTORY_WITH_BOOSTER</th>\n",
       "      <th>DEFEAT</th>\n",
       "      <th>NONE</th>\n",
       "      <th>DEFEAT_WITH_BOOSTER</th>\n",
       "      <th>levelLoop</th>\n",
       "      <th>victories</th>\n",
       "      <th>losses</th>\n",
       "      <th>attempts</th>\n",
       "      <th>win_ratio</th>\n",
       "      <th>booster_ratio</th>\n",
       "      <th>time</th>\n",
       "      <th>cluster</th>\n",
       "    </tr>\n",
       "  </thead>\n",
       "  <tbody>\n",
       "    <tr>\n",
       "      <th>0</th>\n",
       "      <td>1708</td>\n",
       "      <td>7099</td>\n",
       "      <td>3195</td>\n",
       "      <td>288</td>\n",
       "      <td>301</td>\n",
       "      <td>0.0</td>\n",
       "      <td>8807</td>\n",
       "      <td>3496</td>\n",
       "      <td>12591</td>\n",
       "      <td>0.699468</td>\n",
       "      <td>0.563815</td>\n",
       "      <td>148279.771345</td>\n",
       "      <td>1</td>\n",
       "    </tr>\n",
       "    <tr>\n",
       "      <th>1</th>\n",
       "      <td>330</td>\n",
       "      <td>4</td>\n",
       "      <td>0</td>\n",
       "      <td>2</td>\n",
       "      <td>0</td>\n",
       "      <td>1.0</td>\n",
       "      <td>334</td>\n",
       "      <td>0</td>\n",
       "      <td>336</td>\n",
       "      <td>0.994048</td>\n",
       "      <td>0.011905</td>\n",
       "      <td>51789.764881</td>\n",
       "      <td>0</td>\n",
       "    </tr>\n",
       "    <tr>\n",
       "      <th>2</th>\n",
       "      <td>259</td>\n",
       "      <td>53</td>\n",
       "      <td>1</td>\n",
       "      <td>2</td>\n",
       "      <td>0</td>\n",
       "      <td>6.0</td>\n",
       "      <td>312</td>\n",
       "      <td>1</td>\n",
       "      <td>315</td>\n",
       "      <td>0.990476</td>\n",
       "      <td>0.168254</td>\n",
       "      <td>136419.653968</td>\n",
       "      <td>0</td>\n",
       "    </tr>\n",
       "    <tr>\n",
       "      <th>3</th>\n",
       "      <td>260</td>\n",
       "      <td>43</td>\n",
       "      <td>2</td>\n",
       "      <td>4</td>\n",
       "      <td>0</td>\n",
       "      <td>7.0</td>\n",
       "      <td>303</td>\n",
       "      <td>2</td>\n",
       "      <td>309</td>\n",
       "      <td>0.980583</td>\n",
       "      <td>0.139159</td>\n",
       "      <td>54194.022654</td>\n",
       "      <td>0</td>\n",
       "    </tr>\n",
       "    <tr>\n",
       "      <th>4</th>\n",
       "      <td>273</td>\n",
       "      <td>28</td>\n",
       "      <td>1</td>\n",
       "      <td>0</td>\n",
       "      <td>0</td>\n",
       "      <td>8.0</td>\n",
       "      <td>301</td>\n",
       "      <td>1</td>\n",
       "      <td>302</td>\n",
       "      <td>0.996689</td>\n",
       "      <td>0.092715</td>\n",
       "      <td>98549.165563</td>\n",
       "      <td>0</td>\n",
       "    </tr>\n",
       "  </tbody>\n",
       "</table>\n",
       "</div>"
      ],
      "text/plain": [
       "   VICTORY  VICTORY_WITH_BOOSTER  DEFEAT  NONE  DEFEAT_WITH_BOOSTER  \\\n",
       "0     1708                  7099    3195   288                  301   \n",
       "1      330                     4       0     2                    0   \n",
       "2      259                    53       1     2                    0   \n",
       "3      260                    43       2     4                    0   \n",
       "4      273                    28       1     0                    0   \n",
       "\n",
       "   levelLoop  victories  losses  attempts  win_ratio  booster_ratio  \\\n",
       "0        0.0       8807    3496     12591   0.699468       0.563815   \n",
       "1        1.0        334       0       336   0.994048       0.011905   \n",
       "2        6.0        312       1       315   0.990476       0.168254   \n",
       "3        7.0        303       2       309   0.980583       0.139159   \n",
       "4        8.0        301       1       302   0.996689       0.092715   \n",
       "\n",
       "            time  cluster  \n",
       "0  148279.771345        1  \n",
       "1   51789.764881        0  \n",
       "2  136419.653968        0  \n",
       "3   54194.022654        0  \n",
       "4   98549.165563        0  "
      ]
     },
     "execution_count": 95,
     "metadata": {},
     "output_type": "execute_result"
    }
   ],
   "source": [
    "results_forlvl_loops[\"cluster\"] = labels\n",
    "data[\"cluster\"] = labels\n",
    "results_forlvl_loops.head()"
   ]
  },
  {
   "cell_type": "code",
   "execution_count": 54,
   "id": "bd2f6d46",
   "metadata": {},
   "outputs": [],
   "source": [
    "means_lvlLoops = results_forlvl_loops.groupby(\"cluster\", as_index=False).agg({\"win_ratio\" : \"mean\", \"booster_ratio\":\"mean\", \"levelLoop\":\"count\"})\\\n",
    ".rename(columns={\"win_ratio\" : \"win_ratio_mean\", \"booster_ratio\":\"booster_ratio_mean\", \"levelLoop\" : \"quantity\"})"
   ]
  },
  {
   "cell_type": "code",
   "execution_count": 82,
   "id": "982d54a0",
   "metadata": {},
   "outputs": [
    {
     "data": {
      "text/html": [
       "<div>\n",
       "<style scoped>\n",
       "    .dataframe tbody tr th:only-of-type {\n",
       "        vertical-align: middle;\n",
       "    }\n",
       "\n",
       "    .dataframe tbody tr th {\n",
       "        vertical-align: top;\n",
       "    }\n",
       "\n",
       "    .dataframe thead th {\n",
       "        text-align: right;\n",
       "    }\n",
       "</style>\n",
       "<table border=\"1\" class=\"dataframe\">\n",
       "  <thead>\n",
       "    <tr style=\"text-align: right;\">\n",
       "      <th></th>\n",
       "      <th>cluster</th>\n",
       "      <th>win_ratio_mean</th>\n",
       "      <th>booster_ratio_mean</th>\n",
       "      <th>quantity</th>\n",
       "    </tr>\n",
       "  </thead>\n",
       "  <tbody>\n",
       "    <tr>\n",
       "      <th>0</th>\n",
       "      <td>0</td>\n",
       "      <td>0.994347</td>\n",
       "      <td>0.103442</td>\n",
       "      <td>8</td>\n",
       "    </tr>\n",
       "    <tr>\n",
       "      <th>1</th>\n",
       "      <td>1</td>\n",
       "      <td>0.911905</td>\n",
       "      <td>0.547034</td>\n",
       "      <td>17</td>\n",
       "    </tr>\n",
       "    <tr>\n",
       "      <th>2</th>\n",
       "      <td>2</td>\n",
       "      <td>0.971910</td>\n",
       "      <td>0.332995</td>\n",
       "      <td>5</td>\n",
       "    </tr>\n",
       "  </tbody>\n",
       "</table>\n",
       "</div>"
      ],
      "text/plain": [
       "   cluster  win_ratio_mean  booster_ratio_mean  quantity\n",
       "0        0        0.994347            0.103442         8\n",
       "1        1        0.911905            0.547034        17\n",
       "2        2        0.971910            0.332995         5"
      ]
     },
     "execution_count": 82,
     "metadata": {},
     "output_type": "execute_result"
    }
   ],
   "source": [
    "means_lvlLoops"
   ]
  },
  {
   "cell_type": "code",
   "execution_count": 75,
   "id": "3f24cf60",
   "metadata": {},
   "outputs": [
    {
     "data": {
      "image/png": "[encoded data removed]",
      "text/plain": [
       "<Figure size 1080x432 with 1 Axes>"
      ]
     },
     "metadata": {},
     "output_type": "display_data"
    }
   ],
   "source": [
    "fig, ax = plt.subplots()\n",
    "\n",
    "ax.bar(means_lvlLoops.cluster - 0.2, means_lvlLoops.win_ratio_mean, width = 0.4)\n",
    "ax.bar(means_lvlLoops.cluster + 0.2, means_lvlLoops.booster_ratio_mean, width = 0.4)\n",
    "list123 = ['win_ratio_mean', 'booster_ratio_mean']\n",
    "ax.set_facecolor('seashell')\n",
    "fig.set_figwidth(15)    #  ширина Figure\n",
    "fig.set_figheight(6)    #  высота Figure\n",
    "fig.set_facecolor('floralwhite')\n",
    "plt.legend(list123)\n",
    "plt.title(\"Means\")\n",
    "plt.show()"
   ]
  },
  {
   "cell_type": "code",
   "execution_count": 40,
   "id": "cb505285",
   "metadata": {},
   "outputs": [],
   "source": [
    "import seaborn as sns"
   ]
  },
  {
   "cell_type": "code",
   "execution_count": 81,
   "id": "3d93ff43",
   "metadata": {},
   "outputs": [
    {
     "data": {
      "text/plain": [
       "<seaborn.axisgrid.PairGrid at 0x2681db88100>"
      ]
     },
     "execution_count": 81,
     "metadata": {},
     "output_type": "execute_result"
    },
    {
     "data": {
      "image/png": "[encoded data removed]",
      "text/plain": [
       "<Figure size 402.375x360 with 6 Axes>"
      ]
     },
     "metadata": {
      "needs_background": "light"
     },
     "output_type": "display_data"
    }
   ],
   "source": [
    "sns.pairplot(data, hue=\"cluster\", palette='icefire')\n"
   ]
  },
  {
   "cell_type": "markdown",
   "id": "9283bdd2",
   "metadata": {},
   "source": [
    "## Задание 1.3"
   ]
  },
  {
   "cell_type": "code",
   "execution_count": 83,
   "id": "864cb293",
   "metadata": {},
   "outputs": [],
   "source": [
    "ad_users = db_new.query(\"event_name == 'appInstall' & media_source == 'ad-traffic'\")"
   ]
  },
  {
   "cell_type": "code",
   "execution_count": 84,
   "id": "d2d70d11",
   "metadata": {},
   "outputs": [],
   "source": [
    "ad_user_list = ad_users.user_id.tolist() # пользователи перешедшие от рекламы"
   ]
  },
  {
   "cell_type": "code",
   "execution_count": 85,
   "id": "47c50513",
   "metadata": {},
   "outputs": [],
   "source": [
    "transactions_data = db_new.query(\"event_name == 'transactionComplete'\")"
   ]
  },
  {
   "cell_type": "code",
   "execution_count": 94,
   "id": "5dec9243",
   "metadata": {},
   "outputs": [
    {
     "data": {
      "text/html": [
       "<div>\n",
       "<style scoped>\n",
       "    .dataframe tbody tr th:only-of-type {\n",
       "        vertical-align: middle;\n",
       "    }\n",
       "\n",
       "    .dataframe tbody tr th {\n",
       "        vertical-align: top;\n",
       "    }\n",
       "\n",
       "    .dataframe thead th {\n",
       "        text-align: right;\n",
       "    }\n",
       "</style>\n",
       "<table border=\"1\" class=\"dataframe\">\n",
       "  <thead>\n",
       "    <tr style=\"text-align: right;\">\n",
       "      <th></th>\n",
       "      <th>user_id</th>\n",
       "      <th>media_source</th>\n",
       "      <th>client_time</th>\n",
       "      <th>session_index</th>\n",
       "      <th>event_name</th>\n",
       "      <th>event_data</th>\n",
       "      <th>coins</th>\n",
       "      <th>freeRounds</th>\n",
       "      <th>freeUndo</th>\n",
       "      <th>freeWildCard</th>\n",
       "      <th>freeAddCards</th>\n",
       "      <th>level</th>\n",
       "      <th>map</th>\n",
       "      <th>bet</th>\n",
       "      <th>gladeId</th>\n",
       "      <th>league</th>\n",
       "      <th>VIPPointsAmount</th>\n",
       "      <th>VIPStatus</th>\n",
       "      <th>gameType</th>\n",
       "    </tr>\n",
       "  </thead>\n",
       "  <tbody>\n",
       "    <tr>\n",
       "      <th>396062</th>\n",
       "      <td>60bb7b6e4770af6a2faa05a7</td>\n",
       "      <td>organic</td>\n",
       "      <td>05.06.2021 15:59</td>\n",
       "      <td>3</td>\n",
       "      <td>transactionComplete</td>\n",
       "      <td>{\"inLevel\":false,\"usdProceed\":5.24299999999999...</td>\n",
       "      <td>8537</td>\n",
       "      <td>0</td>\n",
       "      <td>1</td>\n",
       "      <td>0</td>\n",
       "      <td>0</td>\n",
       "      <td>110</td>\n",
       "      <td>1</td>\n",
       "      <td>3.0</td>\n",
       "      <td>6.0</td>\n",
       "      <td>0.0</td>\n",
       "      <td>0.0</td>\n",
       "      <td>0.0</td>\n",
       "      <td>NaN</td>\n",
       "    </tr>\n",
       "    <tr>\n",
       "      <th>396063</th>\n",
       "      <td>60bb1a304770af6a2faa0575</td>\n",
       "      <td>ad-traffic</td>\n",
       "      <td>06.06.2021 1:18</td>\n",
       "      <td>10</td>\n",
       "      <td>transactionComplete</td>\n",
       "      <td>{\"inLevel\":false,\"usdProceed\":1.39199934532658...</td>\n",
       "      <td>4098</td>\n",
       "      <td>0</td>\n",
       "      <td>0</td>\n",
       "      <td>0</td>\n",
       "      <td>0</td>\n",
       "      <td>125</td>\n",
       "      <td>1</td>\n",
       "      <td>2.0</td>\n",
       "      <td>6.0</td>\n",
       "      <td>0.0</td>\n",
       "      <td>0.0</td>\n",
       "      <td>0.0</td>\n",
       "      <td>NaN</td>\n",
       "    </tr>\n",
       "    <tr>\n",
       "      <th>396064</th>\n",
       "      <td>60bb1a304770af6a2faa0575</td>\n",
       "      <td>ad-traffic</td>\n",
       "      <td>06.06.2021 4:49</td>\n",
       "      <td>12</td>\n",
       "      <td>transactionComplete</td>\n",
       "      <td>{\"inLevel\":false,\"usdProceed\":1.39199934532658...</td>\n",
       "      <td>4020</td>\n",
       "      <td>0</td>\n",
       "      <td>2</td>\n",
       "      <td>0</td>\n",
       "      <td>0</td>\n",
       "      <td>157</td>\n",
       "      <td>1</td>\n",
       "      <td>2.0</td>\n",
       "      <td>7.0</td>\n",
       "      <td>0.0</td>\n",
       "      <td>0.0</td>\n",
       "      <td>0.0</td>\n",
       "      <td>NaN</td>\n",
       "    </tr>\n",
       "    <tr>\n",
       "      <th>396065</th>\n",
       "      <td>60bba5ea7c80da6a9442cbf3</td>\n",
       "      <td>ad-traffic</td>\n",
       "      <td>06.06.2021 10:56</td>\n",
       "      <td>25</td>\n",
       "      <td>transactionComplete</td>\n",
       "      <td>{\"inLevel\":false,\"usdProceed\":5.24299999999999...</td>\n",
       "      <td>2602</td>\n",
       "      <td>0</td>\n",
       "      <td>0</td>\n",
       "      <td>0</td>\n",
       "      <td>0</td>\n",
       "      <td>132</td>\n",
       "      <td>1</td>\n",
       "      <td>1.0</td>\n",
       "      <td>6.0</td>\n",
       "      <td>0.0</td>\n",
       "      <td>0.0</td>\n",
       "      <td>0.0</td>\n",
       "      <td>NaN</td>\n",
       "    </tr>\n",
       "    <tr>\n",
       "      <th>396066</th>\n",
       "      <td>60bae7544770af6a2faa0563</td>\n",
       "      <td>organic</td>\n",
       "      <td>06.06.2021 11:14</td>\n",
       "      <td>36</td>\n",
       "      <td>transactionComplete</td>\n",
       "      <td>{\"inLevel\":false,\"usdProceed\":5.24299999999999...</td>\n",
       "      <td>1248</td>\n",
       "      <td>0</td>\n",
       "      <td>0</td>\n",
       "      <td>0</td>\n",
       "      <td>0</td>\n",
       "      <td>219</td>\n",
       "      <td>1</td>\n",
       "      <td>1.0</td>\n",
       "      <td>6.0</td>\n",
       "      <td>0.0</td>\n",
       "      <td>0.0</td>\n",
       "      <td>0.0</td>\n",
       "      <td>NaN</td>\n",
       "    </tr>\n",
       "  </tbody>\n",
       "</table>\n",
       "</div>"
      ],
      "text/plain": [
       "                         user_id media_source       client_time  \\\n",
       "396062  60bb7b6e4770af6a2faa05a7      organic  05.06.2021 15:59   \n",
       "396063  60bb1a304770af6a2faa0575   ad-traffic   06.06.2021 1:18   \n",
       "396064  60bb1a304770af6a2faa0575   ad-traffic   06.06.2021 4:49   \n",
       "396065  60bba5ea7c80da6a9442cbf3   ad-traffic  06.06.2021 10:56   \n",
       "396066  60bae7544770af6a2faa0563      organic  06.06.2021 11:14   \n",
       "\n",
       "        session_index           event_name  \\\n",
       "396062              3  transactionComplete   \n",
       "396063             10  transactionComplete   \n",
       "396064             12  transactionComplete   \n",
       "396065             25  transactionComplete   \n",
       "396066             36  transactionComplete   \n",
       "\n",
       "                                               event_data  coins  freeRounds  \\\n",
       "396062  {\"inLevel\":false,\"usdProceed\":5.24299999999999...   8537           0   \n",
       "396063  {\"inLevel\":false,\"usdProceed\":1.39199934532658...   4098           0   \n",
       "396064  {\"inLevel\":false,\"usdProceed\":1.39199934532658...   4020           0   \n",
       "396065  {\"inLevel\":false,\"usdProceed\":5.24299999999999...   2602           0   \n",
       "396066  {\"inLevel\":false,\"usdProceed\":5.24299999999999...   1248           0   \n",
       "\n",
       "        freeUndo  freeWildCard  freeAddCards  level  map  bet  gladeId  \\\n",
       "396062         1             0             0    110    1  3.0      6.0   \n",
       "396063         0             0             0    125    1  2.0      6.0   \n",
       "396064         2             0             0    157    1  2.0      7.0   \n",
       "396065         0             0             0    132    1  1.0      6.0   \n",
       "396066         0             0             0    219    1  1.0      6.0   \n",
       "\n",
       "        league  VIPPointsAmount  VIPStatus  gameType  \n",
       "396062     0.0              0.0        0.0       NaN  \n",
       "396063     0.0              0.0        0.0       NaN  \n",
       "396064     0.0              0.0        0.0       NaN  \n",
       "396065     0.0              0.0        0.0       NaN  \n",
       "396066     0.0              0.0        0.0       NaN  "
      ]
     },
     "execution_count": 94,
     "metadata": {},
     "output_type": "execute_result"
    }
   ],
   "source": [
    "transactions_data.head()"
   ]
  },
  {
   "cell_type": "code",
   "execution_count": 87,
   "id": "ed6da926",
   "metadata": {},
   "outputs": [],
   "source": [
    "transactions = pd.json_normalize(transactions_data.event_data.apply(json.loads))"
   ]
  },
  {
   "cell_type": "code",
   "execution_count": 88,
   "id": "82312d1e",
   "metadata": {},
   "outputs": [],
   "source": [
    "transactions.index = transactions_data.index"
   ]
  },
  {
   "cell_type": "code",
   "execution_count": 89,
   "id": "97989a70",
   "metadata": {},
   "outputs": [],
   "source": [
    "transactions[\"user_id\"] = transactions_data[\"user_id\"]"
   ]
  },
  {
   "cell_type": "code",
   "execution_count": 90,
   "id": "6a12a422",
   "metadata": {},
   "outputs": [],
   "source": [
    "sum = 0     #Подсчет суммы денег, потраченной пользователями, пришедшими от рекламы\n",
    "for i in transactions_data.index:\n",
    "    if transactions.user_id[i] in ad_user_list:\n",
    "        sum += transactions.usdProceed[i]"
   ]
  },
  {
   "cell_type": "code",
   "execution_count": 91,
   "id": "e935ca08",
   "metadata": {},
   "outputs": [
    {
     "data": {
      "text/plain": [
       "56.57629526528391"
      ]
     },
     "execution_count": 91,
     "metadata": {},
     "output_type": "execute_result"
    }
   ],
   "source": [
    "sum"
   ]
  },
  {
   "cell_type": "code",
   "execution_count": 92,
   "id": "77b9dde4",
   "metadata": {},
   "outputs": [
    {
     "data": {
      "text/plain": [
       "286.2"
      ]
     },
     "execution_count": 92,
     "metadata": {},
     "output_type": "execute_result"
    }
   ],
   "source": [
    "ad_cost = len(ad_user_list) * 1.8 # Сумма, затраченная на рекламу\n",
    "ad_cost"
   ]
  },
  {
   "cell_type": "code",
   "execution_count": 93,
   "id": "8c0cb24f",
   "metadata": {},
   "outputs": [
    {
     "data": {
      "text/plain": [
       "0.19768097576968524"
      ]
     },
     "execution_count": 93,
     "metadata": {},
     "output_type": "execute_result"
    }
   ],
   "source": [
    "ad_efficiency = sum/ad_cost # эффективность от рекламы\n",
    "ad_efficiency"
   ]
  }
 ],
 "metadata": {
  "kernelspec": {
   "display_name": "Python 3",
   "language": "python",
   "name": "python3"
  },
  "language_info": {
   "codemirror_mode": {
    "name": "ipython",
    "version": 3
   },
   "file_extension": ".py",
   "mimetype": "text/x-python",
   "name": "python",
   "nbconvert_exporter": "python",
   "pygments_lexer": "ipython3",
   "version": "3.8.8"
  }
 },
 "nbformat": 4,
 "nbformat_minor": 5
}
